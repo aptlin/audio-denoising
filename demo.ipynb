{
 "cells": [
  {
   "cell_type": "markdown",
   "metadata": {},
   "source": [
    "# Denoising mel-spectrograms with a residual dense network"
   ]
  },
  {
   "cell_type": "markdown",
   "metadata": {},
   "source": [
    "## Setup"
   ]
  },
  {
   "cell_type": "markdown",
   "metadata": {},
   "source": [
    "### Imports"
   ]
  },
  {
   "cell_type": "code",
   "execution_count": 2,
   "metadata": {},
   "outputs": [],
   "source": [
    "from audio_denoising.data.loader import load"
   ]
  },
  {
   "cell_type": "markdown",
   "metadata": {},
   "source": [
    "### Variables"
   ]
  },
  {
   "cell_type": "code",
   "execution_count": 3,
   "metadata": {},
   "outputs": [],
   "source": [
    "TRAIN_DATASET = \"dataset/train\"\n",
    "VAL_DATASET = \"dataset/val\""
   ]
  },
  {
   "cell_type": "code",
   "execution_count": 5,
   "metadata": {},
   "outputs": [],
   "source": [
    "d = load(TRAIN_DATASET)"
   ]
  },
  {
   "cell_type": "code",
   "execution_count": 8,
   "metadata": {},
   "outputs": [
    {
     "ename": "RuntimeError",
     "evalue": "\"add_cpu/sub_cpu\" not implemented for 'Half'",
     "output_type": "error",
     "traceback": [
      "\u001b[0;31m---------------------------------------------------------------------------\u001b[0m\n\u001b[0;31mRuntimeError\u001b[0m                              Traceback (most recent call last)",
      "In  \u001b[0;34m[8]\u001b[0m:\nLine \u001b[0;34m1\u001b[0m:     \u001b[34mfor\u001b[39;49;00m i \u001b[35min\u001b[39;49;00m d:\n",
      "File \u001b[0;34m/Users/sdll/miniconda3/envs/py3.7/lib/python3.7/site-packages/torch/utils/data/dataloader.py\u001b[0m, in \u001b[0;32m__next__\u001b[0m:\nLine \u001b[0;34m345\u001b[0m:   data = \u001b[36mself\u001b[39;49;00m._next_data()\n",
      "File \u001b[0;34m/Users/sdll/miniconda3/envs/py3.7/lib/python3.7/site-packages/torch/utils/data/dataloader.py\u001b[0m, in \u001b[0;32m_next_data\u001b[0m:\nLine \u001b[0;34m385\u001b[0m:   data = \u001b[36mself\u001b[39;49;00m._dataset_fetcher.fetch(index)  \u001b[37m# may raise StopIteration\u001b[39;49;00m\n",
      "File \u001b[0;34m/Users/sdll/miniconda3/envs/py3.7/lib/python3.7/site-packages/torch/utils/data/_utils/fetch.py\u001b[0m, in \u001b[0;32mfetch\u001b[0m:\nLine \u001b[0;34m44\u001b[0m:    data = [\u001b[36mself\u001b[39;49;00m.dataset[idx] \u001b[34mfor\u001b[39;49;00m idx \u001b[35min\u001b[39;49;00m possibly_batched_index]\n",
      "File \u001b[0;34m/Users/sdll/miniconda3/envs/py3.7/lib/python3.7/site-packages/torch/utils/data/_utils/fetch.py\u001b[0m, in \u001b[0;32m<listcomp>\u001b[0m:\nLine \u001b[0;34m44\u001b[0m:    data = [\u001b[36mself\u001b[39;49;00m.dataset[idx] \u001b[34mfor\u001b[39;49;00m idx \u001b[35min\u001b[39;49;00m possibly_batched_index]\n",
      "File \u001b[0;34m./audio_denoising/data/loader.py\u001b[0m, in \u001b[0;32m__getitem__\u001b[0m:\nLine \u001b[0;34m43\u001b[0m:    noise = noisy_mel - clean_mel\n",
      "\u001b[0;31mRuntimeError\u001b[0m: \"add_cpu/sub_cpu\" not implemented for 'Half'\n\u001b[0;31m---------------------------------------------------------------------------\u001b[0m"
     ]
    }
   ],
   "source": [
    "for i in d:\n",
    "    print(i)"
   ]
  },
  {
   "cell_type": "code",
   "execution_count": null,
   "metadata": {},
   "outputs": [],
   "source": []
  }
 ],
 "metadata": {
  "kernelspec": {
   "display_name": "xpython",
   "language": "python",
   "name": "xpython"
  },
  "language_info": {
   "file_extension": ".py",
   "mimetype": "text/x-python",
   "name": "python",
   "version": "3.7.6"
  }
 },
 "nbformat": 4,
 "nbformat_minor": 4
}
